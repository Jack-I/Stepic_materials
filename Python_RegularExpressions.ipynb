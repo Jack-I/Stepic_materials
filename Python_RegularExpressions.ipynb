{
 "cells": [
  {
   "cell_type": "code",
   "execution_count": 22,
   "metadata": {},
   "outputs": [
    {
     "name": "stdout",
     "output_type": "stream",
     "text": [
      "<re.Match object; span=(0, 3), match='abc'>\n",
      "<re.Match object; span=(1, 4), match='abc'>\n",
      "<re.Match object; span=(1, 4), match='acc'>\n",
      "['abc', 'acc', 'aac', 'adc']\n",
      "abc, abc, abc, abc\n"
     ]
    }
   ],
   "source": [
    "# Step 3.3\n",
    "# Паттерны - всегда raw string \n",
    "import re\n",
    "pattern = r\"abc\"\n",
    "string = \"abcd\"\n",
    "match_obj = re.match (pattern, string)\n",
    "print(match_obj)\n",
    "string = \"dabc\"\n",
    "match_obj = re.search (pattern, string)\n",
    "print(match_obj)\n",
    "\n",
    "pattern = r\"a[a-d]c\" # [] - множество подходящих символов\n",
    "string = \"dacce\"\n",
    "match_obj = re.search (pattern, string)\n",
    "print(match_obj)\n",
    "\n",
    "string = \"abc, acc, aac, adc\"\n",
    "all_inclusions = re.findall(pattern, string)  # всё что подходит под шаблон\n",
    "print(all_inclusions)\n",
    "fix_typos = re.sub(pattern, \"abc\", string)  # найти и заменить\n",
    "print(fix_typos)"
   ]
  },
  {
   "cell_type": "code",
   "execution_count": 9,
   "metadata": {},
   "outputs": [
    {
     "name": "stdout",
     "output_type": "stream",
     "text": [
      "<re.Match object; span=(13, 21), match='English?'>\n"
     ]
    }
   ],
   "source": [
    "import re\n",
    "pattern = r\"English\\?\" # ? - спецсимвол, поэтому его надо экранировать бэкслешем\n",
    "string = \"Do you speak English?\"\n",
    "match_obj = re.search (pattern, string)\n",
    "print(match_obj)"
   ]
  },
  {
   "cell_type": "code",
   "execution_count": null,
   "metadata": {},
   "outputs": [],
   "source": [
    "import re\n",
    "# pattern = r\"a.c\"  # a, любой символ, c\n",
    "pattern = r\"a[\\w.]c\" # a, любая буква или цифры или точка, с\n",
    "string = \"abc, a7c, a-c, a.c\"\n",
    "all_inclusions = re.findall(pattern, string) # всё что подходит под шаблон\n",
    "print(all_inclusions)\n",
    "fix_typos = re.sub(pattern, \"abc\", string)\n",
    "print(fix_typos)"
   ]
  },
  {
   "cell_type": "code",
   "execution_count": 18,
   "metadata": {},
   "outputs": [
    {
     "name": "stdout",
     "output_type": "stream",
     "text": [
      "* makes: ['ac', 'abc', 'abbc', 'abbbc']\n",
      "+ makes: ['abc', 'abbc', 'abbbc']\n",
      "? makes: ['ac', 'abc']\n",
      "{2,3} makes: ['abbc', 'abbbc']\n"
     ]
    }
   ],
   "source": [
    "import re\n",
    "pattern = r\"ab*c\" # любое количество раз b (от нуля до беск-ти)\n",
    "string = \"ac, abc, abbc, abbbc, adc\"\n",
    "all_inclusions = re.findall(pattern, string) # всё что подходит под шаблон\n",
    "print(\"* makes: \"+ str(all_inclusions)) #str напечатает список как строку\n",
    "pattern = r\"ab+c\" # любое количество раз b (от одного до беск-ти)\n",
    "all_inclusions = re.findall(pattern, string) \n",
    "print(\"+ makes: \"+ str(all_inclusions))\n",
    "pattern = r\"ab?c\" # 0 или один раз b\n",
    "all_inclusions = re.findall(pattern, string) \n",
    "print(\"? makes: \"+ str(all_inclusions))\n",
    "pattern = r\"ab{2,3}c\" # от 2 до 3 раз b\n",
    "all_inclusions = re.findall(pattern, string) \n",
    "print(\"{2,3} makes: \"+ str(all_inclusions))"
   ]
  },
  {
   "cell_type": "code",
   "execution_count": 24,
   "metadata": {},
   "outputs": [
    {
     "name": "stdout",
     "output_type": "stream",
     "text": [
      "<re.Match object; span=(0, 6), match='abaaba'>\n",
      "<re.Match object; span=(0, 3), match='aba'>\n",
      "['aba', 'aba']\n"
     ]
    }
   ],
   "source": [
    "import re\n",
    "pattern = r\"a[ab]+a\" # a, любое количество раз a или b, a\n",
    "string = \"abaaba\"\n",
    "match = re.match(pattern, string) \n",
    "print(match) # по-умлочанию регулярки \"жадные\" и выдадут самый длинный подхолящий мач\n",
    "pattern = r\"a[ab]+?a\" # a, любое количество раз a или b, a\n",
    "match = re.match(pattern, string)\n",
    "print(match) # ? делает регулярку не жадной и выдает самый короткий мач\n",
    "all_inclusions = re.findall(pattern, string) \n",
    "print(all_inclusions) # или два самых коротких вхождения"
   ]
  },
  {
   "cell_type": "code",
   "execution_count": 49,
   "metadata": {},
   "outputs": [
    {
     "name": "stdout",
     "output_type": "stream",
     "text": [
      "<re.Match object; span=(0, 12), match='texttesttest'>\n",
      "('test', 'abc', 'test')\n",
      "test\n"
     ]
    }
   ],
   "source": [
    "import re\n",
    "pattern = r\"(test|text)*\" #  | - или\n",
    "string = \"texttesttest\"\n",
    "search = re.match(pattern, string)\n",
    "print(search)\n",
    "\n",
    "pattern = r\"((abc)|(test|text))*\" #  | - или\n",
    "string = \"abctexttest\"\n",
    "search = re.match(pattern, string)\n",
    "print(search.groups()) \n",
    "# первый test - всё RE в целом, abc - первая часть RE (abc)\n",
    "# второй test - результат матча второй части (test|text)\n",
    "# выдает последнее вхождение в строке (порядок в паттерне между | - не важен)\n",
    "print(search.group(1)) # Первая группа из RE.  # 0 (всё RE в целом) - атрибут по умолчанию "
   ]
  },
  {
   "cell_type": "code",
   "execution_count": 10,
   "metadata": {},
   "outputs": [
    {
     "name": "stdout",
     "output_type": "stream",
     "text": [
      "<re.Match object; span=(0, 9), match='test-test'> \n",
      "\n",
      "test meow \n",
      "\n",
      "[('test-test', 'test'), ('meow-meow', 'meow')]\n"
     ]
    }
   ],
   "source": [
    "import re\n",
    "pattern = r\"(\\w+)-\\1\" #последовательность из любого >0 количества букв/цифр, \n",
    "# далее дефис, далее ещё одна группа такая же, как первая (\\1 - номер группы)\n",
    "\n",
    "string = \"test-test\" # a \"test-text\" уже не даст матча\n",
    "search = re.match(pattern, string)\n",
    "print(search, \"\\n\") \n",
    "\n",
    "string = \"test-test meow-meow\"\n",
    "duplicates = re.sub(pattern, r\"\\1\", string)  # заменяет каждый найденный паттерн на первую его часть\n",
    "print(duplicates, \"\\n\")  # оставит только \"test meow\"\n",
    "\n",
    "pattern = r\"((\\w+)-\\2)\"  #  \\w+ теперь во вторых по счету скобках, поэтому \\2 (2-я группа)\n",
    "string = \"test-test meow-meow\"\n",
    "duplicates = re.findall(pattern, string)  # ищет 2 группы: 1-я это \"буквоцифры-буквоцифры\"\n",
    "# и вторая: \"буквоцифры\", ктр. входят в первую группу\n",
    "print(duplicates)"
   ]
  },
  {
   "cell_type": "code",
   "execution_count": 21,
   "metadata": {},
   "outputs": [
    {
     "name": "stdout",
     "output_type": "stream",
     "text": [
      "<re.Match object; span=(0, 4), match='TEXT'> \n",
      "\n",
      "Debug info:\n",
      "MAX_REPEAT 0 MAXREPEAT\n",
      "  SUBPATTERN 1 0 0\n",
      "    LITERAL 116\n",
      "    LITERAL 101\n",
      "LITERAL 120\n",
      "LITERAL 116\n",
      "\n",
      " 0. INFO 4 0b0 2 MAXREPEAT (to 5)\n",
      " 5: REPEAT 11 0 MAXREPEAT (to 17)\n",
      " 9.   MARK 0\n",
      "11.   LITERAL_UNI_IGNORE 0x74 ('t')\n",
      "13.   LITERAL_UNI_IGNORE 0x65 ('e')\n",
      "15.   MARK 1\n",
      "17: MAX_UNTIL\n",
      "18. LITERAL_UNI_IGNORE 0x78 ('x')\n",
      "20. LITERAL_UNI_IGNORE 0x74 ('t')\n",
      "22. SUCCESS\n",
      "Match: <re.Match object; span=(0, 4), match='TEXT'>\n"
     ]
    }
   ],
   "source": [
    "import re\n",
    "# флаги\n",
    "x = re.match(r\"text\", \"TEXT\", re.IGNORECASE)\n",
    "print(x, \"\\n\")\n",
    "\n",
    "print (\"Debug info:\")\n",
    "x = re.match(r\"(te)*xt\", \"TEXT\", re.IGNORECASE | re.DEBUG)  # флаги перечисляются через | - \"ИЛИ\"\n",
    "print(\"Match:\",x)\n",
    "# * - MAX_REPEAT от 0 до беск-ти (*? - MIN_REPEAT)\n",
    "# () - SUBPATTERN"
   ]
  }
 ],
 "metadata": {
  "kernelspec": {
   "display_name": "Python 3",
   "language": "python",
   "name": "python3"
  },
  "language_info": {
   "codemirror_mode": {
    "name": "ipython",
    "version": 3
   },
   "file_extension": ".py",
   "mimetype": "text/x-python",
   "name": "python",
   "nbconvert_exporter": "python",
   "pygments_lexer": "ipython3",
   "version": "3.7.3"
  }
 },
 "nbformat": 4,
 "nbformat_minor": 2
}
